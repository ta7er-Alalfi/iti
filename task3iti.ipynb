{
  "nbformat": 4,
  "nbformat_minor": 0,
  "metadata": {
    "colab": {
      "provenance": [],
      "authorship_tag": "ABX9TyMPJcXa6kIpIxWKy/Fn5jb3",
      "include_colab_link": true
    },
    "kernelspec": {
      "name": "python3",
      "display_name": "Python 3"
    },
    "language_info": {
      "name": "python"
    }
  },
  "cells": [
    {
      "cell_type": "markdown",
      "metadata": {
        "id": "view-in-github",
        "colab_type": "text"
      },
      "source": [
        "<a href=\"https://colab.research.google.com/github/ta7er-Alalfi/iti/blob/main/task3iti.ipynb\" target=\"_parent\"><img src=\"https://colab.research.google.com/assets/colab-badge.svg\" alt=\"Open In Colab\"/></a>"
      ]
    },
    {
      "cell_type": "code",
      "execution_count": 2,
      "metadata": {
        "colab": {
          "base_uri": "https://localhost:8080/"
        },
        "id": "KprtrLxb7nOm",
        "outputId": "065a5dba-552c-4a4e-bd79-95c20c6dcd04"
      },
      "outputs": [
        {
          "output_type": "stream",
          "name": "stdout",
          "text": [
            "Manual mean: 20.5\n"
          ]
        }
      ],
      "source": [
        "import numpy as np\n",
        "ages = [18, 21, 20, 19, 22, 23, 20, 21, 22, 19]\n",
        "manual_mean = sum(ages) / len(ages)\n",
        "numpy_mean = np.mean(ages)\n",
        "\n",
        "print(\"Manual mean:\", manual_mean)\n"
      ]
    },
    {
      "cell_type": "code",
      "source": [
        "import numpy as np\n",
        "import random\n",
        "data = [random.randint(10, 50) for _ in range(15)]\n",
        "sorted_data = sorted(data)\n",
        "n = len(sorted_data)\n",
        "if n % 2 == 1:\n",
        "    manual_median = sorted_data[n // 2]\n",
        "else:\n",
        "    manual_median = (sorted_data[n // 2 - 1] + sorted_data[n // 2]) / 2\n",
        "numpy_median = np.median(data)\n",
        "\n",
        "print(\"Data:\", data)\n",
        "print(\"Manual median:\", manual_median)\n",
        "print(\"NumPy median:\", numpy_median)\n"
      ],
      "metadata": {
        "colab": {
          "base_uri": "https://localhost:8080/"
        },
        "id": "wggF2tCnJVEB",
        "outputId": "bddf9309-e6c7-4dda-f99f-f70c60ff55d1"
      },
      "execution_count": 3,
      "outputs": [
        {
          "output_type": "stream",
          "name": "stdout",
          "text": [
            "Data: [29, 11, 11, 16, 45, 25, 39, 19, 46, 38, 22, 32, 46, 20, 16]\n",
            "Manual median: 25\n",
            "NumPy median: 25.0\n"
          ]
        }
      ]
    },
    {
      "cell_type": "code",
      "source": [
        "import numpy as np\n",
        "import random\n",
        "\n",
        "data = [random.randint(10, 50) for _ in range(15)]\n",
        "manual_min = min(data)\n",
        "manual_max = max(data)\n",
        "manual_range = manual_max - manual_min\n",
        "\n",
        "numpy_min = np.min(data)\n",
        "numpy_max = np.max(data)\n",
        "numpy_range = numpy_max - numpy_min\n",
        "\n",
        "print(\"Data:\", data)\n",
        "print(\"Manual Min:\", manual_min)\n",
        "print(\"Manual Max:\", manual_max)\n",
        "print(\"Manual Range:\", manual_range)\n",
        "print(\"NumPy Min:\", numpy_min)\n",
        "print(\"NumPy Max:\", numpy_max)\n",
        "print(\"NumPy Range:\", numpy_range)\n"
      ],
      "metadata": {
        "colab": {
          "base_uri": "https://localhost:8080/"
        },
        "id": "5geKf8xFJ7QV",
        "outputId": "5f45d5e7-46ad-4ccb-ef08-7138bb58482f"
      },
      "execution_count": 4,
      "outputs": [
        {
          "output_type": "stream",
          "name": "stdout",
          "text": [
            "Data: [16, 23, 47, 37, 16, 12, 40, 13, 49, 10, 13, 45, 40, 10, 42]\n",
            "Manual Min: 10\n",
            "Manual Max: 49\n",
            "Manual Range: 39\n",
            "NumPy Min: 10\n",
            "NumPy Max: 49\n",
            "NumPy Range: 39\n"
          ]
        }
      ]
    },
    {
      "cell_type": "code",
      "source": [
        "import numpy as np\n",
        "data = [5, 7, 3, 7, 9, 10, 15, 7]\n",
        "numpy_variance = np.var(data)\n",
        "numpy_std = np.std(data)\n",
        "print(\"NumPy Variance:\", numpy_variance)\n",
        "print(\"NumPy Std Dev:\", numpy_std)\n"
      ],
      "metadata": {
        "colab": {
          "base_uri": "https://localhost:8080/"
        },
        "id": "y4SYrtd8Kahj",
        "outputId": "8abe9596-8dca-488b-d386-fa53b42b796c"
      },
      "execution_count": 5,
      "outputs": [
        {
          "output_type": "stream",
          "name": "stdout",
          "text": [
            "NumPy Variance: 11.359375\n",
            "NumPy Std Dev: 3.370367190678191\n"
          ]
        }
      ]
    },
    {
      "cell_type": "code",
      "source": [
        "import numpy as np\n",
        "\n",
        "data = [12, 15, 14, 10, 18, 20, 25, 17, 16, 22]\n",
        "Q1 = np.percentile(data, 25)\n",
        "Q2 = np.percentile(data, 50)\n",
        "Q3 = np.percentile(data, 75)\n",
        "IQR = Q3 - Q1\n",
        "print(\"Q1 (25th percentile):\", Q1)\n",
        "print(\"Q2 (50th percentile - median):\", Q2)\n",
        "print(\"Q3 (75th percentile):\", Q3)\n",
        "print(\"Interquartile Range (IQR):\", IQR)\n"
      ],
      "metadata": {
        "colab": {
          "base_uri": "https://localhost:8080/"
        },
        "id": "zthmaWe5K1bD",
        "outputId": "709bcc36-8fb9-47a8-a516-5c9f1e2842d9"
      },
      "execution_count": 6,
      "outputs": [
        {
          "output_type": "stream",
          "name": "stdout",
          "text": [
            "Q1 (25th percentile): 14.25\n",
            "Q2 (50th percentile - median): 16.5\n",
            "Q3 (75th percentile): 19.5\n",
            "Interquartile Range (IQR): 5.25\n"
          ]
        }
      ]
    },
    {
      "cell_type": "code",
      "source": [
        "import numpy as np\n",
        "import random\n",
        "data = [random.randint(1, 50) for _ in range(25)]\n",
        "\n",
        "data.extend([300, 400])\n",
        "\n",
        "Q1 = np.percentile(data, 25)\n",
        "Q3 = np.percentile(data, 75)\n",
        "\n",
        "IQR = Q3 - Q1\n",
        "lower_bound = Q1 - 1.5 * IQR\n",
        "upper_bound = Q3 + 1.5 * IQR\n",
        "\n",
        "outliers = [x for x in data if x < lower_bound or x > upper_bound]\n",
        "\n",
        "print(\"Data:\", data)\n",
        "print(\"Q1:\", Q1, \"Q3:\", Q3, \"IQR:\", IQR)\n",
        "print(\"Lower Bound:\", lower_bound, \"Upper Bound:\", upper_bound)\n",
        "print(\"Outliers:\", outliers)\n"
      ],
      "metadata": {
        "colab": {
          "base_uri": "https://localhost:8080/"
        },
        "id": "-neeMWxgLnW7",
        "outputId": "34b60647-5a8d-4c9c-fdd4-6ca35b0caee4"
      },
      "execution_count": 8,
      "outputs": [
        {
          "output_type": "stream",
          "name": "stdout",
          "text": [
            "Data: [36, 11, 7, 22, 31, 39, 27, 19, 11, 28, 12, 1, 31, 36, 47, 25, 19, 8, 38, 11, 20, 20, 15, 29, 11, 300, 400]\n",
            "Q1: 11.5 Q3: 33.5 IQR: 22.0\n",
            "Lower Bound: -21.5 Upper Bound: 66.5\n",
            "Outliers: [300, 400]\n"
          ]
        }
      ]
    },
    {
      "cell_type": "code",
      "source": [],
      "metadata": {
        "id": "PGd-kRmLMGMX"
      },
      "execution_count": null,
      "outputs": []
    }
  ]
}