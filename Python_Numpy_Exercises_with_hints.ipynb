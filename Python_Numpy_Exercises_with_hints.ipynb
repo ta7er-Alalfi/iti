{
  "cells": [
    {
      "cell_type": "markdown",
      "metadata": {
        "id": "view-in-github",
        "colab_type": "text"
      },
      "source": [
        "<a href=\"https://colab.research.google.com/github/ta7er-Alalfi/iti/blob/main/Python_Numpy_Exercises_with_hints.ipynb\" target=\"_parent\"><img src=\"https://colab.research.google.com/assets/colab-badge.svg\" alt=\"Open In Colab\"/></a>"
      ]
    },
    {
      "cell_type": "markdown",
      "id": "bf79c78b",
      "metadata": {
        "id": "bf79c78b"
      },
      "source": [
        "# Python NumPy Exercises\n",
        "\n",
        "This is a collection of exercises that have been collected in the numpy mailing list, on stack overflow\n",
        "and in the numpy documentation. The goal of this collection is to offer a quick reference for both old\n",
        "and new users but also to provide a set of exercises for those who teach."
      ]
    },
    {
      "cell_type": "markdown",
      "id": "017db353",
      "metadata": {
        "id": "017db353"
      },
      "source": [
        "#### 1. Import the numpy package under the name `np` and print the numpy version and the configuration (★☆☆)\n",
        "\n",
        "`Hint: import … as` and `np.__version__, np.show_config)`"
      ]
    },
    {
      "cell_type": "code",
      "execution_count": 5,
      "id": "e28779fe",
      "metadata": {
        "id": "e28779fe",
        "outputId": "722bf0a1-fe69-4112-c630-4cb3553e473d",
        "colab": {
          "base_uri": "https://localhost:8080/"
        }
      },
      "outputs": [
        {
          "output_type": "stream",
          "name": "stdout",
          "text": [
            "NumPy version: 2.0.2\n",
            "Build Dependencies:\n",
            "  blas:\n",
            "    detection method: pkgconfig\n",
            "    found: true\n",
            "    include directory: /opt/_internal/cpython-3.11.8/lib/python3.11/site-packages/scipy_openblas64/include\n",
            "    lib directory: /opt/_internal/cpython-3.11.8/lib/python3.11/site-packages/scipy_openblas64/lib\n",
            "    name: scipy-openblas\n",
            "    openblas configuration: OpenBLAS 0.3.27  USE64BITINT DYNAMIC_ARCH NO_AFFINITY\n",
            "      Zen MAX_THREADS=64\n",
            "    pc file directory: /project/.openblas\n",
            "    version: 0.3.27\n",
            "  lapack:\n",
            "    detection method: pkgconfig\n",
            "    found: true\n",
            "    include directory: /opt/_internal/cpython-3.11.8/lib/python3.11/site-packages/scipy_openblas64/include\n",
            "    lib directory: /opt/_internal/cpython-3.11.8/lib/python3.11/site-packages/scipy_openblas64/lib\n",
            "    name: scipy-openblas\n",
            "    openblas configuration: OpenBLAS 0.3.27  USE64BITINT DYNAMIC_ARCH NO_AFFINITY\n",
            "      Zen MAX_THREADS=64\n",
            "    pc file directory: /project/.openblas\n",
            "    version: 0.3.27\n",
            "Compilers:\n",
            "  c:\n",
            "    commands: cc\n",
            "    linker: ld.bfd\n",
            "    name: gcc\n",
            "    version: 10.2.1\n",
            "  c++:\n",
            "    commands: c++\n",
            "    linker: ld.bfd\n",
            "    name: gcc\n",
            "    version: 10.2.1\n",
            "  cython:\n",
            "    commands: cython\n",
            "    linker: cython\n",
            "    name: cython\n",
            "    version: 3.0.11\n",
            "Machine Information:\n",
            "  build:\n",
            "    cpu: x86_64\n",
            "    endian: little\n",
            "    family: x86_64\n",
            "    system: linux\n",
            "  host:\n",
            "    cpu: x86_64\n",
            "    endian: little\n",
            "    family: x86_64\n",
            "    system: linux\n",
            "Python Information:\n",
            "  path: /tmp/build-env-zm_4loqi/bin/python\n",
            "  version: '3.11'\n",
            "SIMD Extensions:\n",
            "  baseline:\n",
            "  - SSE\n",
            "  - SSE2\n",
            "  - SSE3\n",
            "  found:\n",
            "  - SSSE3\n",
            "  - SSE41\n",
            "  - POPCNT\n",
            "  - SSE42\n",
            "  - AVX\n",
            "  - F16C\n",
            "  - FMA3\n",
            "  - AVX2\n",
            "  not found:\n",
            "  - AVX512F\n",
            "  - AVX512CD\n",
            "  - AVX512_KNL\n",
            "  - AVX512_KNM\n",
            "  - AVX512_SKX\n",
            "  - AVX512_CLX\n",
            "  - AVX512_CNL\n",
            "  - AVX512_ICL\n",
            "\n"
          ]
        }
      ],
      "source": [
        "import numpy as np\n",
        "print(\"NumPy version:\", np.__version__)\n",
        "np.show_config()\n"
      ]
    },
    {
      "cell_type": "markdown",
      "id": "46950f4f",
      "metadata": {
        "id": "46950f4f"
      },
      "source": [
        "#### 2. Convert a list of numeric value into a one-dimensional NumPy array (★☆☆)\n",
        "`💡 hint: numpy.array`"
      ]
    },
    {
      "cell_type": "code",
      "execution_count": 7,
      "id": "9b0e875f",
      "metadata": {
        "id": "9b0e875f",
        "outputId": "cce48fb8-f905-4f61-b9e2-eca45b911007",
        "colab": {
          "base_uri": "https://localhost:8080/"
        }
      },
      "outputs": [
        {
          "output_type": "stream",
          "name": "stdout",
          "text": [
            "[1 2 3 4 5]\n"
          ]
        }
      ],
      "source": [
        "import numpy as np\n",
        "number=[1,2,3,4,5]\n",
        "arr=np.array(number)\n",
        "print(arr)"
      ]
    },
    {
      "cell_type": "markdown",
      "id": "e3c20b3d",
      "metadata": {
        "id": "e3c20b3d"
      },
      "source": [
        "#### 3. Create a null vector of size 9 (★☆☆)\n",
        "`💡 hint: np.zeros`"
      ]
    },
    {
      "cell_type": "code",
      "execution_count": 8,
      "id": "96d0b63e",
      "metadata": {
        "id": "96d0b63e",
        "outputId": "96fc5b0a-aa9b-4709-ede2-b3998cad5261",
        "colab": {
          "base_uri": "https://localhost:8080/"
        }
      },
      "outputs": [
        {
          "output_type": "stream",
          "name": "stdout",
          "text": [
            "[0. 0. 0. 0. 0. 0. 0. 0. 0.]\n"
          ]
        }
      ],
      "source": [
        "import numpy as np\n",
        "null_vector = np.zeros(9)\n",
        "print(null_vector)\n"
      ]
    },
    {
      "cell_type": "markdown",
      "id": "b15a879f",
      "metadata": {
        "id": "b15a879f"
      },
      "source": [
        "#### 4. How to find the memory size of any array (★☆☆)\n",
        "`💡 hint: size, itemsize`"
      ]
    },
    {
      "cell_type": "code",
      "execution_count": 9,
      "id": "32f9025c",
      "metadata": {
        "id": "32f9025c",
        "outputId": "c9fcf93c-da89-4be3-eb1e-a6cffebb7251",
        "colab": {
          "base_uri": "https://localhost:8080/"
        }
      },
      "outputs": [
        {
          "output_type": "stream",
          "name": "stdout",
          "text": [
            "40\n"
          ]
        }
      ],
      "source": [
        "import numpy as np\n",
        "arr = np.array([1, 2, 3, 4, 5])\n",
        "memory_size = arr.size * arr.itemsize\n",
        "\n",
        "print( memory_size)\n"
      ]
    },
    {
      "cell_type": "markdown",
      "id": "0a708990",
      "metadata": {
        "id": "0a708990"
      },
      "source": [
        "#### 5. How to get the documentation of the numpy add function from the command line? (★☆☆)\n",
        "`💡hint: np.info`"
      ]
    },
    {
      "cell_type": "code",
      "execution_count": 10,
      "id": "d254eea5",
      "metadata": {
        "id": "d254eea5",
        "outputId": "0a0dae2a-61d7-48b3-8efa-5e882dca8d13",
        "colab": {
          "base_uri": "https://localhost:8080/"
        }
      },
      "outputs": [
        {
          "output_type": "stream",
          "name": "stdout",
          "text": [
            "add(x1, x2, /, out=None, *, where=True, casting='same_kind', order='K', dtype=None, subok=True[, signature])\n",
            "\n",
            "Add arguments element-wise.\n",
            "\n",
            "Parameters\n",
            "----------\n",
            "x1, x2 : array_like\n",
            "    The arrays to be added.\n",
            "    If ``x1.shape != x2.shape``, they must be broadcastable to a common\n",
            "    shape (which becomes the shape of the output).\n",
            "out : ndarray, None, or tuple of ndarray and None, optional\n",
            "    A location into which the result is stored. If provided, it must have\n",
            "    a shape that the inputs broadcast to. If not provided or None,\n",
            "    a freshly-allocated array is returned. A tuple (possible only as a\n",
            "    keyword argument) must have length equal to the number of outputs.\n",
            "where : array_like, optional\n",
            "    This condition is broadcast over the input. At locations where the\n",
            "    condition is True, the `out` array will be set to the ufunc result.\n",
            "    Elsewhere, the `out` array will retain its original value.\n",
            "    Note that if an uninitialized `out` array is created via the default\n",
            "    ``out=None``, locations within it where the condition is False will\n",
            "    remain uninitialized.\n",
            "**kwargs\n",
            "    For other keyword-only arguments, see the\n",
            "    :ref:`ufunc docs <ufuncs.kwargs>`.\n",
            "\n",
            "Returns\n",
            "-------\n",
            "add : ndarray or scalar\n",
            "    The sum of `x1` and `x2`, element-wise.\n",
            "    This is a scalar if both `x1` and `x2` are scalars.\n",
            "\n",
            "Notes\n",
            "-----\n",
            "Equivalent to `x1` + `x2` in terms of array broadcasting.\n",
            "\n",
            "Examples\n",
            "--------\n",
            ">>> np.add(1.0, 4.0)\n",
            "5.0\n",
            ">>> x1 = np.arange(9.0).reshape((3, 3))\n",
            ">>> x2 = np.arange(3.0)\n",
            ">>> np.add(x1, x2)\n",
            "array([[  0.,   2.,   4.],\n",
            "       [  3.,   5.,   7.],\n",
            "       [  6.,   8.,  10.]])\n",
            "\n",
            "The ``+`` operator can be used as a shorthand for ``np.add`` on ndarrays.\n",
            "\n",
            ">>> x1 = np.arange(9.0).reshape((3, 3))\n",
            ">>> x2 = np.arange(3.0)\n",
            ">>> x1 + x2\n",
            "array([[ 0.,  2.,  4.],\n",
            "       [ 3.,  5.,  7.],\n",
            "       [ 6.,  8., 10.]])\n"
          ]
        }
      ],
      "source": [
        "import numpy as np\n",
        "np.info(np.add)\n"
      ]
    },
    {
      "cell_type": "markdown",
      "id": "0b16cd77",
      "metadata": {
        "id": "0b16cd77"
      },
      "source": [
        "#### 6. Create a null vector of size 12 but the sixth value which is 1 (★☆☆)\n",
        "`💡hint: array[12]`"
      ]
    },
    {
      "cell_type": "code",
      "execution_count": 11,
      "id": "05223560",
      "metadata": {
        "id": "05223560",
        "outputId": "f939ba54-4923-443a-8118-8b7db9cfa81a",
        "colab": {
          "base_uri": "https://localhost:8080/"
        }
      },
      "outputs": [
        {
          "output_type": "stream",
          "name": "stdout",
          "text": [
            "[0. 0. 0. 0. 0. 1. 0. 0. 0. 0. 0. 0.]\n"
          ]
        }
      ],
      "source": [
        "import numpy as np\n",
        "arr = np.zeros(12)\n",
        "arr[5] = 1\n",
        "\n",
        "print(arr)\n"
      ]
    },
    {
      "cell_type": "markdown",
      "id": "782d4c77",
      "metadata": {
        "id": "782d4c77"
      },
      "source": [
        "#### 7. Create a vector with values ranging from 20 to 59 (★☆☆)\n",
        "`💡hint: arange`"
      ]
    },
    {
      "cell_type": "code",
      "execution_count": 12,
      "id": "7250d114",
      "metadata": {
        "id": "7250d114",
        "outputId": "d635e10e-c96f-488e-f67e-9ad6512fc672",
        "colab": {
          "base_uri": "https://localhost:8080/"
        }
      },
      "outputs": [
        {
          "output_type": "stream",
          "name": "stdout",
          "text": [
            "[20 21 22 23 24 25 26 27 28 29 30 31 32 33 34 35 36 37 38 39 40 41 42 43\n",
            " 44 45 46 47 48 49 50 51 52 53 54 55 56 57 58 59]\n"
          ]
        }
      ],
      "source": [
        "import numpy as np\n",
        "vector = np.arange(20, 60)\n",
        "print(vector)\n"
      ]
    },
    {
      "cell_type": "markdown",
      "id": "48d48f01",
      "metadata": {
        "id": "48d48f01"
      },
      "source": [
        "#### 8. Reverse a vector (first element becomes last) (★☆☆)\n",
        "`💡hint: array[::-1]`"
      ]
    },
    {
      "cell_type": "code",
      "execution_count": 14,
      "id": "fb702ae0",
      "metadata": {
        "id": "fb702ae0",
        "outputId": "5c845473-d092-4d74-b5e1-e14496c77188",
        "colab": {
          "base_uri": "https://localhost:8080/"
        }
      },
      "outputs": [
        {
          "output_type": "stream",
          "name": "stdout",
          "text": [
            "[9 8 7 6 5 4 3 2 1]\n"
          ]
        }
      ],
      "source": [
        "import numpy as np\n",
        "vector = np.arange(1,10)\n",
        "reversed_vector = vector[::-1]\n",
        "print(reversed_vector)\n"
      ]
    },
    {
      "cell_type": "markdown",
      "id": "4fa39382",
      "metadata": {
        "id": "4fa39382"
      },
      "source": [
        "#### 9. Create a 3x3 matrix with values ranging from 12 to 20 (★☆☆)\n",
        "`💡hint: reshape`"
      ]
    },
    {
      "cell_type": "code",
      "execution_count": 21,
      "id": "97e6be92",
      "metadata": {
        "id": "97e6be92",
        "outputId": "d2d6f07c-375c-4ccd-e706-bdfb0044096c",
        "colab": {
          "base_uri": "https://localhost:8080/"
        }
      },
      "outputs": [
        {
          "output_type": "stream",
          "name": "stdout",
          "text": [
            "[[12 13 14]\n",
            " [15 16 17]\n",
            " [18 19 20]]\n"
          ]
        }
      ],
      "source": [
        "import numpy as np\n",
        "matrix = np.arange(12, 21).reshape(3, 3)\n",
        "print(matrix)\n"
      ]
    },
    {
      "cell_type": "markdown",
      "id": "da64551a",
      "metadata": {
        "id": "da64551a"
      },
      "source": [
        "#### 10. Find indices of non-zero elements from [3,7,0,0,9,0] (★☆☆)\n",
        "`💡hint: np.nonzero`"
      ]
    },
    {
      "cell_type": "code",
      "execution_count": 22,
      "id": "322b2b68",
      "metadata": {
        "id": "322b2b68",
        "outputId": "641fe445-8a07-4aae-cbe4-fff6e61eb774",
        "colab": {
          "base_uri": "https://localhost:8080/"
        }
      },
      "outputs": [
        {
          "output_type": "stream",
          "name": "stdout",
          "text": [
            "(array([0, 1, 4]),)\n"
          ]
        }
      ],
      "source": [
        "import numpy as np\n",
        "arr = np.array([3, 7, 0, 0, 9, 0])\n",
        "indices = np.nonzero(arr)\n",
        "\n",
        "print(indices)\n"
      ]
    },
    {
      "cell_type": "markdown",
      "id": "f89d9c9e",
      "metadata": {
        "id": "f89d9c9e"
      },
      "source": [
        "#### 11. Create a 4x4 identity matrix (★☆☆)\n",
        "`💡hint: np.eye`"
      ]
    },
    {
      "cell_type": "code",
      "execution_count": 24,
      "id": "5717e1c1",
      "metadata": {
        "id": "5717e1c1",
        "outputId": "2cd1dde6-f970-4860-c4ae-f6ec7c93697e",
        "colab": {
          "base_uri": "https://localhost:8080/"
        }
      },
      "outputs": [
        {
          "output_type": "stream",
          "name": "stdout",
          "text": [
            "[[1. 0. 0. 0.]\n",
            " [0. 1. 0. 0.]\n",
            " [0. 0. 1. 0.]\n",
            " [0. 0. 0. 1.]]\n"
          ]
        }
      ],
      "source": [
        "import numpy as np\n",
        "identity_matrix = np.eye(4)\n",
        "print(identity_matrix)\n"
      ]
    },
    {
      "cell_type": "markdown",
      "id": "7e44c6fa",
      "metadata": {
        "id": "7e44c6fa"
      },
      "source": [
        "#### 12. Create a 2x2x2 array with random values (★☆☆)\n",
        "`💡hint: np.random.random`"
      ]
    },
    {
      "cell_type": "code",
      "execution_count": 26,
      "id": "c8fd52e1",
      "metadata": {
        "id": "c8fd52e1",
        "outputId": "54be7e63-a4d1-4469-884b-67805ab3614d",
        "colab": {
          "base_uri": "https://localhost:8080/"
        }
      },
      "outputs": [
        {
          "output_type": "stream",
          "name": "stdout",
          "text": [
            "[[[0.66020356 0.69397044]\n",
            "  [0.5903583  0.4441532 ]]\n",
            "\n",
            " [[0.18501406 0.7999012 ]\n",
            "  [0.81021885 0.77008804]]]\n"
          ]
        }
      ],
      "source": [
        "import numpy as np\n",
        "array = np.random.random((2, 2, 2))\n",
        "print(array)\n",
        ""
      ]
    },
    {
      "cell_type": "markdown",
      "id": "13c5928c",
      "metadata": {
        "id": "13c5928c"
      },
      "source": [
        "#### 13. Create a 9x9 array with random values and find the minimum and maximum values (★☆☆)\n",
        "`💡hint: min, max`"
      ]
    },
    {
      "cell_type": "code",
      "execution_count": 30,
      "id": "0ede4d26",
      "metadata": {
        "id": "0ede4d26",
        "outputId": "6ed3e9f8-c0fe-417a-c51b-f5e6bf714251",
        "colab": {
          "base_uri": "https://localhost:8080/"
        }
      },
      "outputs": [
        {
          "output_type": "stream",
          "name": "stdout",
          "text": [
            "[[0.92709805 0.68602412 0.8426118  0.36121544 0.00855912 0.90543214\n",
            "  0.12461853 0.01977458 0.91884451]\n",
            " [0.5020156  0.42033029 0.68802073 0.25840259 0.77427851 0.06161768\n",
            "  0.17836659 0.13134032 0.15586289]\n",
            " [0.8679477  0.27201304 0.68053984 0.27921231 0.831237   0.87318941\n",
            "  0.21404105 0.79903626 0.74342411]\n",
            " [0.51638456 0.48147481 0.04592591 0.48163207 0.79345735 0.02934756\n",
            "  0.22787394 0.48172611 0.65472466]\n",
            " [0.38988565 0.97619023 0.37868198 0.98145544 0.41916987 0.87566092\n",
            "  0.89071086 0.08635986 0.51888311]\n",
            " [0.75417115 0.16074656 0.10238716 0.32863409 0.91499101 0.29940684\n",
            "  0.49906064 0.739399   0.45453575]\n",
            " [0.35728935 0.83044314 0.95873677 0.81776977 0.37581434 0.64148448\n",
            "  0.11979912 0.13222284 0.72444591]\n",
            " [0.17971016 0.1327584  0.25631147 0.84038521 0.81119077 0.77281496\n",
            "  0.20303107 0.89559175 0.78160423]\n",
            " [0.87015645 0.34981895 0.34204066 0.82016313 0.96667071 0.69632395\n",
            "  0.77367232 0.70389104 0.29784729]]\n",
            "0.008559115694789399\n",
            "0.9814554429084369\n"
          ]
        }
      ],
      "source": [
        "import numpy as np\n",
        "arr=np.random.random((9,9))\n",
        "min_val = arr.min()\n",
        "max_val = arr.max()\n",
        "\n",
        "print( arr)\n",
        "print(min_val)\n",
        "print( max_val)"
      ]
    },
    {
      "cell_type": "markdown",
      "id": "3fa2e461",
      "metadata": {
        "id": "3fa2e461"
      },
      "source": [
        "#### 14. Create a random vector of size 20 and find the mean value (★☆☆)\n",
        "`💡hint: mean`"
      ]
    },
    {
      "cell_type": "code",
      "execution_count": 33,
      "id": "c0048e59",
      "metadata": {
        "id": "c0048e59",
        "outputId": "bd369f31-a903-4cf3-bca7-74b87974e165",
        "colab": {
          "base_uri": "https://localhost:8080/"
        }
      },
      "outputs": [
        {
          "output_type": "stream",
          "name": "stdout",
          "text": [
            "[0.53946047 0.39603865 0.83456302 0.78392641 0.18947539 0.07929533\n",
            " 0.70299363 0.0333333  0.53681632 0.62694499 0.96145687 0.31915761\n",
            " 0.5882535  0.4796863  0.71382661 0.04779748 0.95641456 0.75551957\n",
            " 0.18889465 0.43813038]\n",
            "<built-in method mean of numpy.ndarray object at 0x79bef19116b0>\n"
          ]
        }
      ],
      "source": [
        "import numpy as np\n",
        "vector=np.random.random(20)\n",
        "mean_value= vector.mean\n",
        "print(vector)\n",
        "print(mean_value)"
      ]
    },
    {
      "cell_type": "markdown",
      "id": "73f7a549",
      "metadata": {
        "id": "73f7a549"
      },
      "source": [
        "#### 15. Create a 2d array with 1 on the border and 0 inside (★☆☆)\n",
        "`💡hint: array[1:-1, 1:-1]`"
      ]
    },
    {
      "cell_type": "code",
      "execution_count": 34,
      "id": "351ff928",
      "metadata": {
        "id": "351ff928",
        "outputId": "eee1f64b-ec7a-4f46-c3bd-355ba7f35b22",
        "colab": {
          "base_uri": "https://localhost:8080/"
        }
      },
      "outputs": [
        {
          "output_type": "stream",
          "name": "stdout",
          "text": [
            "[[1 1 1 1 1]\n",
            " [1 0 0 0 1]\n",
            " [1 0 0 0 1]\n",
            " [1 0 0 0 1]\n",
            " [1 1 1 1 1]]\n"
          ]
        }
      ],
      "source": [
        "import numpy as np\n",
        "array = np.zeros((5, 5), dtype=int)\n",
        "array[0, :] = 1\n",
        "array[-1, :] = 1\n",
        "array[:, 0] = 1\n",
        "array[:, -1] = 1\n",
        "\n",
        "print(array)\n"
      ]
    },
    {
      "cell_type": "markdown",
      "id": "6d0c506f",
      "metadata": {
        "id": "6d0c506f"
      },
      "source": [
        "#### 16. How to add a border (filled with 0's) around an existing array? (★☆☆)\n",
        "`💡hint: np.pad`"
      ]
    },
    {
      "cell_type": "code",
      "execution_count": 35,
      "id": "c1cc1143",
      "metadata": {
        "id": "c1cc1143",
        "outputId": "110f1964-5b41-469f-b21a-23018569d047",
        "colab": {
          "base_uri": "https://localhost:8080/"
        }
      },
      "outputs": [
        {
          "output_type": "stream",
          "name": "stdout",
          "text": [
            "[[0 0 0 0 0]\n",
            " [0 1 1 1 0]\n",
            " [0 1 1 1 0]\n",
            " [0 1 1 1 0]\n",
            " [0 0 0 0 0]]\n"
          ]
        }
      ],
      "source": [
        "import numpy as np\n",
        "arr = np.ones((3, 3), dtype=int)\n",
        "arr_with_border = np.pad(arr, pad_width=1, mode='constant', constant_values=0)\n",
        "\n",
        "print(arr_with_border)\n"
      ]
    },
    {
      "cell_type": "markdown",
      "id": "d6ad1a9f",
      "metadata": {
        "id": "d6ad1a9f"
      },
      "source": [
        "#### 17. What is the result of the following expression? (★☆☆)\n",
        "```python\n",
        "0 * np.nan\n",
        "np.nan == np.nan\n",
        "np.inf > np.nan\n",
        "np.nan - np.nan\n",
        "np.nan in set([np.nan])\n",
        "0.7 == 7 * 0.1\n",
        "```\n",
        "`💡hint: NaN = not a number, inf = infinity`"
      ]
    },
    {
      "cell_type": "code",
      "execution_count": null,
      "id": "7ba3c441",
      "metadata": {
        "id": "7ba3c441"
      },
      "outputs": [],
      "source": []
    },
    {
      "cell_type": "markdown",
      "id": "e3a7ba7f",
      "metadata": {
        "id": "e3a7ba7f"
      },
      "source": [
        "#### 18. Create a 6x6 matrix with values 1,2,3,4 just below the diagonal (★☆☆)\n",
        "`💡hint: np.diag`"
      ]
    },
    {
      "cell_type": "code",
      "execution_count": 36,
      "id": "b874734e",
      "metadata": {
        "id": "b874734e",
        "outputId": "e4b979d2-5ce7-46ac-92cc-ea5ec5aa8c78",
        "colab": {
          "base_uri": "https://localhost:8080/"
        }
      },
      "outputs": [
        {
          "output_type": "stream",
          "name": "stdout",
          "text": [
            "[[0 0 0 0 0 0]\n",
            " [1 0 0 0 0 0]\n",
            " [0 2 0 0 0 0]\n",
            " [0 0 3 0 0 0]\n",
            " [0 0 0 4 0 0]\n",
            " [0 0 0 0 0 0]]\n"
          ]
        }
      ],
      "source": [
        "import numpy as np\n",
        "arr = np.diag([1, 2, 3, 4], k=-1)\n",
        "arr = np.pad(arr, ((0, 6 - arr.shape[0]), (0, 6 - arr.shape[1])), mode='constant')\n",
        "\n",
        "print(arr)\n"
      ]
    },
    {
      "cell_type": "markdown",
      "id": "6d17ab5d",
      "metadata": {
        "id": "6d17ab5d"
      },
      "source": [
        "#### 19. Create a 6x6 matrix and fill it with a checkerboard pattern (★☆☆)\n",
        "`💡hint: array[::2]`"
      ]
    },
    {
      "cell_type": "code",
      "execution_count": 37,
      "id": "4c4e2c5e",
      "metadata": {
        "id": "4c4e2c5e",
        "outputId": "c6b56002-de11-4b0f-c445-4c30b0d8ac25",
        "colab": {
          "base_uri": "https://localhost:8080/"
        }
      },
      "outputs": [
        {
          "output_type": "stream",
          "name": "stdout",
          "text": [
            "[[0 1 0 1 0 1]\n",
            " [1 0 1 0 1 0]\n",
            " [0 1 0 1 0 1]\n",
            " [1 0 1 0 1 0]\n",
            " [0 1 0 1 0 1]\n",
            " [1 0 1 0 1 0]]\n"
          ]
        }
      ],
      "source": [
        "import numpy as np\n",
        "checkerboard = np.zeros((6, 6), dtype=int)\n",
        "checkerboard[::2, 1::2] = 1\n",
        "checkerboard[1::2, ::2] = 1\n",
        "\n",
        "print(checkerboard)\n"
      ]
    },
    {
      "cell_type": "markdown",
      "id": "8837119b",
      "metadata": {
        "id": "8837119b"
      },
      "source": [
        "#### 20. Consider a (8,9,10) shape array, what is the index (x,y,z) of the 100th element? (★☆☆)\n",
        "`💡hint: np.unravel_index`"
      ]
    },
    {
      "cell_type": "code",
      "execution_count": 38,
      "id": "2b05c544",
      "metadata": {
        "id": "2b05c544",
        "outputId": "1200ed11-7396-4a8c-eaf8-2d1584c6d26e",
        "colab": {
          "base_uri": "https://localhost:8080/"
        }
      },
      "outputs": [
        {
          "output_type": "stream",
          "name": "stdout",
          "text": [
            "(np.int64(1), np.int64(1), np.int64(0))\n"
          ]
        }
      ],
      "source": [
        "import numpy as np\n",
        "\n",
        "arr = np.unravel_index(100, (8, 9, 10))\n",
        "print(arr)\n",
        "\n"
      ]
    },
    {
      "cell_type": "markdown",
      "id": "ec788c9f",
      "metadata": {
        "id": "ec788c9f"
      },
      "source": [
        "#### 21. Create a checkerboard 8x8 matrix using the tile function (★☆☆)\n",
        "`💡hint: np.tile`"
      ]
    },
    {
      "cell_type": "code",
      "execution_count": 39,
      "id": "c3980b2c",
      "metadata": {
        "id": "c3980b2c",
        "outputId": "a5e3b86e-452b-4745-cff4-6caa1bd4a0a1",
        "colab": {
          "base_uri": "https://localhost:8080/"
        }
      },
      "outputs": [
        {
          "output_type": "stream",
          "name": "stdout",
          "text": [
            "[[0 1 0 1 0 1 0 1]\n",
            " [1 0 1 0 1 0 1 0]\n",
            " [0 1 0 1 0 1 0 1]\n",
            " [1 0 1 0 1 0 1 0]\n",
            " [0 1 0 1 0 1 0 1]\n",
            " [1 0 1 0 1 0 1 0]\n",
            " [0 1 0 1 0 1 0 1]\n",
            " [1 0 1 0 1 0 1 0]]\n"
          ]
        }
      ],
      "source": [
        "import numpy as np\n",
        "\n",
        "checkerboard = np.tile([[0, 1], [1, 0]], (4, 4))\n",
        "print(checkerboard)\n"
      ]
    },
    {
      "cell_type": "markdown",
      "id": "391791e0",
      "metadata": {
        "id": "391791e0"
      },
      "source": [
        "#### 22. Normalize a 6x6 random matrix (★☆☆)\n",
        "`💡hint: (x -mean)/std`"
      ]
    },
    {
      "cell_type": "code",
      "execution_count": 40,
      "id": "ada71c06",
      "metadata": {
        "id": "ada71c06",
        "outputId": "119a67db-136d-4a7a-8d02-90d1d3c00ae6",
        "colab": {
          "base_uri": "https://localhost:8080/"
        }
      },
      "outputs": [
        {
          "output_type": "stream",
          "name": "stdout",
          "text": [
            "[[-0.03720883  1.44171878 -1.06649752 -1.13327725 -0.8870838   1.13645128]\n",
            " [-1.57250854  0.10789725  0.11847419  0.97050469  0.47376389  0.95675907]\n",
            " [ 0.89276803 -0.49249773 -0.67352315  0.9594156   0.51692839  0.24398685]\n",
            " [-1.1528225  -1.45302854  0.69348504  1.12740238 -0.22827771  0.0555238 ]\n",
            " [ 1.56959788 -0.24489813  0.14491737 -1.74256789 -0.13222346 -0.05282655]\n",
            " [ 1.41162824 -1.58087335  1.52940148 -1.81139823  0.70854894 -0.79765995]]\n"
          ]
        }
      ],
      "source": [
        "import numpy as np\n",
        "\n",
        "x = np.random.random((6, 6))\n",
        "normalized_x = (x - x.mean()) / x.std()\n",
        "print(normalized_x)\n"
      ]
    },
    {
      "cell_type": "markdown",
      "id": "1e74d39e",
      "metadata": {
        "id": "1e74d39e"
      },
      "source": [
        "#### 23. find the number of elements of an array, length of one array element in bytes and total bytes consumed by the elements. (★☆☆)"
      ]
    },
    {
      "cell_type": "code",
      "execution_count": 41,
      "id": "eb0e066c",
      "metadata": {
        "id": "eb0e066c",
        "outputId": "e345c716-e773-41c1-c6d1-b3ecd9620b66",
        "colab": {
          "base_uri": "https://localhost:8080/"
        }
      },
      "outputs": [
        {
          "output_type": "stream",
          "name": "stdout",
          "text": [
            "5\n",
            "8\n",
            "40\n"
          ]
        }
      ],
      "source": [
        "import numpy as np\n",
        "\n",
        "arr = np.array([1, 2, 3, 4, 5])\n",
        "num_elements = arr.size\n",
        "element_size = arr.itemsize\n",
        "total_bytes = arr.nbytes\n",
        "\n",
        "print(num_elements)\n",
        "print(element_size)\n",
        "print(total_bytes)\n"
      ]
    },
    {
      "cell_type": "markdown",
      "id": "78250c14",
      "metadata": {
        "id": "78250c14"
      },
      "source": [
        "#### 24. Multiply a 6x3 matrix by a 3x4 matrix (real matrix product) (★☆☆)\n",
        "`💡hint: np.dot` or `np.ones`"
      ]
    },
    {
      "cell_type": "code",
      "execution_count": 42,
      "id": "2e482afe",
      "metadata": {
        "id": "2e482afe",
        "outputId": "88a6ecf8-eddb-4bfb-d6b8-f8789da9e423",
        "colab": {
          "base_uri": "https://localhost:8080/"
        }
      },
      "outputs": [
        {
          "output_type": "stream",
          "name": "stdout",
          "text": [
            "[[3. 3. 3. 3.]\n",
            " [3. 3. 3. 3.]\n",
            " [3. 3. 3. 3.]\n",
            " [3. 3. 3. 3.]\n",
            " [3. 3. 3. 3.]\n",
            " [3. 3. 3. 3.]]\n"
          ]
        }
      ],
      "source": [
        "import numpy as np\n",
        "\n",
        "A = np.ones((6, 3))\n",
        "B = np.ones((3, 4))\n",
        "result = np.dot(A, B)\n",
        "print(result)\n",
        "\n"
      ]
    },
    {
      "cell_type": "markdown",
      "id": "51898680",
      "metadata": {
        "id": "51898680"
      },
      "source": [
        "#### 25. Given a 1D array, negate all elements which are between 3 and 8, in place. (★☆☆)\n",
        "`💡hint: >, <`"
      ]
    },
    {
      "cell_type": "code",
      "execution_count": 43,
      "id": "ee92ccaf",
      "metadata": {
        "id": "ee92ccaf",
        "outputId": "82513398-30f9-457e-bb6c-101a46271656",
        "colab": {
          "base_uri": "https://localhost:8080/"
        }
      },
      "outputs": [
        {
          "output_type": "stream",
          "name": "stdout",
          "text": [
            "[ 0  1  2  3 -4 -5 -6 -7  8  9]\n"
          ]
        }
      ],
      "source": [
        "import numpy as np\n",
        "\n",
        "arr = np.arange(10)\n",
        "arr[(arr > 3) & (arr < 8)] *= -1\n",
        "print(arr)\n"
      ]
    },
    {
      "cell_type": "markdown",
      "id": "89e78048",
      "metadata": {
        "id": "89e78048"
      },
      "source": [
        "#### 26. What is the output of the following script? (★☆☆)\n",
        "```python\n",
        "\n",
        "print(sum(range(5),-1))\n",
        "from numpy import *\n",
        "print(sum(range(5),-1))\n",
        "```"
      ]
    },
    {
      "cell_type": "code",
      "execution_count": null,
      "id": "8026c969",
      "metadata": {
        "id": "8026c969"
      },
      "outputs": [],
      "source": []
    },
    {
      "cell_type": "markdown",
      "id": "ebd10810",
      "metadata": {
        "id": "ebd10810"
      },
      "source": [
        "#### 27. Write a Python program compare two arrays using numpy (★☆☆)\n",
        "```python\n",
        "Array a: [1 2]\n",
        "Array b: [4 5]\n",
        "a > b\n",
        "[False False]\n",
        "a >= b\n",
        "[False False]\n",
        "a < b\n",
        "[ True True]\n",
        "a <= b\n",
        "[ True True]\n",
        "```"
      ]
    },
    {
      "cell_type": "code",
      "execution_count": null,
      "id": "90fed5c6",
      "metadata": {
        "id": "90fed5c6"
      },
      "outputs": [],
      "source": []
    },
    {
      "cell_type": "markdown",
      "id": "c0e940f8",
      "metadata": {
        "id": "c0e940f8"
      },
      "source": [
        "#### 28. What are the result of the following expressions? (★☆☆)\n",
        "```python\n",
        "np.array(0) / np.array(0)\n",
        "np.array(0) // np.array(0)\n",
        "np.array([np.nan]).astype(int).astype(float)\n",
        "```\n",
        "Consider an integer vector a\n",
        "```python\n",
        "a**a\n",
        "a << a >> 2\n",
        "a <- a\n",
        "1j*a\n",
        "a/1/1\n",
        "a<a>a\n",
        "```"
      ]
    },
    {
      "cell_type": "code",
      "execution_count": null,
      "id": "50d84cdf",
      "metadata": {
        "id": "50d84cdf"
      },
      "outputs": [],
      "source": []
    },
    {
      "cell_type": "markdown",
      "id": "22713c3f",
      "metadata": {
        "id": "22713c3f"
      },
      "source": [
        "#### 29. How to round away from zero a float array ? (★☆☆)\n",
        "`💡hint: np.uniform, np.copysign, np.ceil, np.abs, np.where`"
      ]
    },
    {
      "cell_type": "code",
      "execution_count": 45,
      "id": "85ebdda9",
      "metadata": {
        "id": "85ebdda9",
        "outputId": "2c8c2f94-6096-429a-f123-b8c266afc8d9",
        "colab": {
          "base_uri": "https://localhost:8080/"
        }
      },
      "outputs": [
        {
          "output_type": "stream",
          "name": "stdout",
          "text": [
            "[-3.27685742  4.92193457 -5.08703057 -3.99516894 -9.54358681  3.50391406\n",
            " -0.5776984  -3.52779422 -2.15067232 -1.53433321]\n",
            "[ -4.   5.  -6.  -4. -10.   4.  -1.  -4.  -3.  -2.]\n"
          ]
        }
      ],
      "source": [
        "import numpy as np\n",
        "\n",
        "arr = np.random.uniform(-10, 10, 10)\n",
        "rounded = np.copysign(np.ceil(np.abs(arr)), arr)\n",
        "print(arr)\n",
        "print(rounded)\n"
      ]
    },
    {
      "cell_type": "markdown",
      "id": "f1ae2c2d",
      "metadata": {
        "id": "f1ae2c2d"
      },
      "source": [
        "#### 30. How to find common values between two arrays? (★☆☆)\n",
        "`💡hint: np.intersect1d`"
      ]
    },
    {
      "cell_type": "code",
      "execution_count": 44,
      "id": "097482ad",
      "metadata": {
        "id": "097482ad",
        "outputId": "ee9781c4-bde3-4f15-e70e-5613b50e8f39",
        "colab": {
          "base_uri": "https://localhost:8080/"
        }
      },
      "outputs": [
        {
          "output_type": "stream",
          "name": "stdout",
          "text": [
            "[4 5]\n"
          ]
        }
      ],
      "source": [
        "import numpy as np\n",
        "\n",
        "a = np.array([1, 2, 3, 4, 5])\n",
        "b = np.array([4, 5, 6, 7, 8])\n",
        "common_values = np.intersect1d(a, b)\n",
        "print(common_values)\n"
      ]
    },
    {
      "cell_type": "markdown",
      "id": "34a7bdee",
      "metadata": {
        "id": "34a7bdee"
      },
      "source": [
        "#### 31. How to ignore all numpy warnings (not recommended)? (★☆☆)\n",
        "`💡hint: np.seterr, np.errstate`"
      ]
    },
    {
      "cell_type": "code",
      "execution_count": null,
      "id": "95ba8c7d",
      "metadata": {
        "id": "95ba8c7d"
      },
      "outputs": [],
      "source": []
    },
    {
      "cell_type": "markdown",
      "id": "37bc0973",
      "metadata": {
        "id": "37bc0973"
      },
      "source": [
        "#### 32. Is the following expressions true? (★☆☆)\n",
        "```python\n",
        "np.sqrt(-1) == np.emath.sqrt(-1)\n",
        "```\n",
        "`💡hint: imaginary number`"
      ]
    },
    {
      "cell_type": "code",
      "execution_count": null,
      "id": "6925e9db",
      "metadata": {
        "id": "6925e9db"
      },
      "outputs": [],
      "source": []
    },
    {
      "cell_type": "markdown",
      "id": "129c342d",
      "metadata": {
        "id": "129c342d"
      },
      "source": [
        "#### 33. How to get the dates of yesterday, today and tomorrow? (★☆☆)\n",
        "`💡hint: np.datetime64, np.timedelta64`"
      ]
    },
    {
      "cell_type": "code",
      "execution_count": null,
      "id": "0fd2f947",
      "metadata": {
        "id": "0fd2f947"
      },
      "outputs": [],
      "source": []
    },
    {
      "cell_type": "markdown",
      "id": "42f8b2f9",
      "metadata": {
        "id": "42f8b2f9"
      },
      "source": [
        "#### 34. How to get all the dates corresponding to the month of January 2016? (★★☆)\n",
        "`💡hint: np.arange(dtype=datetime64['D'])`"
      ]
    },
    {
      "cell_type": "code",
      "execution_count": null,
      "id": "5ad086b0",
      "metadata": {
        "id": "5ad086b0"
      },
      "outputs": [],
      "source": []
    },
    {
      "cell_type": "markdown",
      "id": "252c43e2",
      "metadata": {
        "id": "252c43e2"
      },
      "source": [
        "#### 35. How to compute ((A+B)*(-A/2)) in place (without copy)? (★★☆)\n",
        "`💡hint: np.add(out=), np.negative(out=), np.multiply(out=), np.divide(out=)`"
      ]
    },
    {
      "cell_type": "code",
      "execution_count": null,
      "id": "34488d4b",
      "metadata": {
        "id": "34488d4b"
      },
      "outputs": [],
      "source": []
    },
    {
      "cell_type": "markdown",
      "id": "486df8ea",
      "metadata": {
        "id": "486df8ea"
      },
      "source": [
        "#### 36. Extract the integer part of a random array of positive numbers using 4 different methods (★★☆)\n",
        "`💡hint: %, np.floor, astype, np.trunc`"
      ]
    },
    {
      "cell_type": "code",
      "execution_count": null,
      "id": "2680c1ca",
      "metadata": {
        "id": "2680c1ca"
      },
      "outputs": [],
      "source": []
    },
    {
      "cell_type": "markdown",
      "id": "649e89f9",
      "metadata": {
        "id": "649e89f9"
      },
      "source": [
        "#### 37. Create a 3x3 matrix with row values ranging from 0 to 2 (★★☆)\n",
        "`💡hint: np.arange`"
      ]
    },
    {
      "cell_type": "code",
      "execution_count": null,
      "id": "e832212f",
      "metadata": {
        "id": "e832212f"
      },
      "outputs": [],
      "source": []
    },
    {
      "cell_type": "markdown",
      "id": "3421e17f",
      "metadata": {
        "id": "3421e17f"
      },
      "source": [
        "#### 38. Consider a generator function that generates 9 integers and use it to build an array (★☆☆)\n",
        "`💡hint: np.fromiter`"
      ]
    },
    {
      "cell_type": "code",
      "execution_count": null,
      "id": "d97fcb71",
      "metadata": {
        "id": "d97fcb71"
      },
      "outputs": [],
      "source": []
    },
    {
      "cell_type": "markdown",
      "id": "483dd554",
      "metadata": {
        "id": "483dd554"
      },
      "source": [
        "#### 39. Create a vector of size 10 with values ranging from 0 to 1, both excluded (★★☆)\n",
        "`💡hint: np.linspace`"
      ]
    },
    {
      "cell_type": "code",
      "execution_count": null,
      "id": "572668cb",
      "metadata": {
        "id": "572668cb"
      },
      "outputs": [],
      "source": []
    },
    {
      "cell_type": "markdown",
      "id": "2d07be1c",
      "metadata": {
        "id": "2d07be1c"
      },
      "source": [
        "#### 40. Create a random vector of size 10 and sort it (★★☆)\n",
        "`💡hint: sort`"
      ]
    },
    {
      "cell_type": "code",
      "execution_count": null,
      "id": "046a541a",
      "metadata": {
        "id": "046a541a"
      },
      "outputs": [],
      "source": []
    },
    {
      "cell_type": "markdown",
      "id": "6415f02e",
      "metadata": {
        "id": "6415f02e"
      },
      "source": [
        "#### 41. How to sum a small array faster than np.sum? (★★☆)\n",
        "`💡hint: np.add.reduce`"
      ]
    },
    {
      "cell_type": "code",
      "execution_count": null,
      "id": "129e785f",
      "metadata": {
        "id": "129e785f"
      },
      "outputs": [],
      "source": []
    },
    {
      "cell_type": "markdown",
      "id": "fe043549",
      "metadata": {
        "id": "fe043549"
      },
      "source": [
        "#### 42. Consider two random array A and B, check if they are equal (★★☆)\n",
        "`💡hint: np.allclose, np.array_equal`"
      ]
    },
    {
      "cell_type": "code",
      "execution_count": null,
      "id": "7ada2e2b",
      "metadata": {
        "id": "7ada2e2b"
      },
      "outputs": [],
      "source": []
    },
    {
      "cell_type": "markdown",
      "id": "cc08f71c",
      "metadata": {
        "id": "cc08f71c"
      },
      "source": [
        "#### 43. Make an array immutable (read-only) (★★☆)\n",
        "`💡hint: flags.writeable`"
      ]
    },
    {
      "cell_type": "code",
      "execution_count": null,
      "id": "0b91afd1",
      "metadata": {
        "id": "0b91afd1"
      },
      "outputs": [],
      "source": []
    },
    {
      "cell_type": "markdown",
      "id": "2002cb03",
      "metadata": {
        "id": "2002cb03"
      },
      "source": [
        "#### 44. Consider a random 5x2 matrix representing cartesian coordinates, convert them to polar coordinates (★★☆)\n",
        "`💡hint: np.sqrt, np.arctan2`"
      ]
    },
    {
      "cell_type": "code",
      "execution_count": null,
      "id": "16476671",
      "metadata": {
        "id": "16476671"
      },
      "outputs": [],
      "source": []
    },
    {
      "cell_type": "markdown",
      "id": "b7109c9f",
      "metadata": {
        "id": "b7109c9f"
      },
      "source": [
        "#### 45. Create random vector of size 5 and replace the maximum value by 0 (★★☆)\n",
        "`💡hint: argmax`"
      ]
    },
    {
      "cell_type": "code",
      "execution_count": null,
      "id": "89b75e6d",
      "metadata": {
        "id": "89b75e6d"
      },
      "outputs": [],
      "source": []
    },
    {
      "cell_type": "markdown",
      "id": "7d3131b9",
      "metadata": {
        "id": "7d3131b9"
      },
      "source": [
        "#### 46. Create a structured array with `x` and `y` coordinates covering the [0,1]x[0,1] area (★★☆)\n",
        "`💡hint: np.meshgrid`"
      ]
    },
    {
      "cell_type": "code",
      "execution_count": null,
      "id": "445532d0",
      "metadata": {
        "id": "445532d0"
      },
      "outputs": [],
      "source": []
    },
    {
      "cell_type": "markdown",
      "id": "7c8c1fc5",
      "metadata": {
        "id": "7c8c1fc5"
      },
      "source": [
        "#### 47. Given two arrays, X and Y, construct the Cauchy matrix C (Cij =1/(xi - yj)) (★★☆)\n",
        "`💡hint: np.subtract.outer`"
      ]
    },
    {
      "cell_type": "code",
      "execution_count": null,
      "id": "7668afae",
      "metadata": {
        "id": "7668afae"
      },
      "outputs": [],
      "source": []
    },
    {
      "cell_type": "markdown",
      "id": "5795b4bd",
      "metadata": {
        "id": "5795b4bd"
      },
      "source": [
        "#### 48. Print the minimum and maximum representable value for each numpy scalar type (★★☆)\n",
        "`💡hint: np.iinfo, np.finfo, eps`"
      ]
    },
    {
      "cell_type": "code",
      "execution_count": null,
      "id": "f2eaddaa",
      "metadata": {
        "id": "f2eaddaa"
      },
      "outputs": [],
      "source": []
    },
    {
      "cell_type": "markdown",
      "id": "fb24674c",
      "metadata": {
        "id": "fb24674c"
      },
      "source": [
        "#### 49. How to print all the values of an array? (★★☆)\n",
        "`💡hint: np.set_printoptions`"
      ]
    },
    {
      "cell_type": "code",
      "execution_count": null,
      "id": "9bdfaefe",
      "metadata": {
        "id": "9bdfaefe"
      },
      "outputs": [],
      "source": []
    },
    {
      "cell_type": "markdown",
      "id": "e6e1ae2f",
      "metadata": {
        "id": "e6e1ae2f"
      },
      "source": [
        "#### 50. How to find the closest value (to a given scalar) in a vector? (★★☆)\n",
        "`💡hint: argmin`"
      ]
    },
    {
      "cell_type": "code",
      "execution_count": null,
      "id": "29a9e416",
      "metadata": {
        "id": "29a9e416"
      },
      "outputs": [],
      "source": []
    },
    {
      "cell_type": "markdown",
      "id": "c01f0ecf",
      "metadata": {
        "id": "c01f0ecf"
      },
      "source": [
        "#### 51. Create a structured array representing a position (x,y) and a color (r,g,b) (★★☆)\n",
        "`💡hint: dtype`"
      ]
    },
    {
      "cell_type": "code",
      "execution_count": null,
      "id": "a3241eca",
      "metadata": {
        "id": "a3241eca"
      },
      "outputs": [],
      "source": []
    },
    {
      "cell_type": "markdown",
      "id": "3b64a18b",
      "metadata": {
        "id": "3b64a18b"
      },
      "source": [
        "#### 52. Consider a random vector with shape (100,2) representing coordinates, find point by point distances (★★☆)\n",
        "`💡hint: np.atleast_2d, T, np.sqrt`"
      ]
    },
    {
      "cell_type": "code",
      "execution_count": null,
      "id": "f27585c3",
      "metadata": {
        "id": "f27585c3"
      },
      "outputs": [],
      "source": []
    },
    {
      "cell_type": "markdown",
      "id": "48413134",
      "metadata": {
        "id": "48413134"
      },
      "source": [
        "#### 53. How to convert a float (32 bits) array into an integer (32 bits) in place?\n",
        "`💡hint: view and [:] =`"
      ]
    },
    {
      "cell_type": "code",
      "execution_count": null,
      "id": "59c8357d",
      "metadata": {
        "id": "59c8357d"
      },
      "outputs": [],
      "source": []
    },
    {
      "cell_type": "markdown",
      "id": "0a532633",
      "metadata": {
        "id": "0a532633"
      },
      "source": [
        "#### 54. How to read the following file? (★★☆)\n",
        "```\n",
        "1, 2, 3, 4, 5\n",
        "6,  ,  , 7, 8\n",
        " ,  , 9,10,11\n",
        "```\n",
        "`💡hint: np.genfromtxt`"
      ]
    },
    {
      "cell_type": "code",
      "execution_count": null,
      "id": "81b2915b",
      "metadata": {
        "id": "81b2915b"
      },
      "outputs": [],
      "source": []
    },
    {
      "cell_type": "markdown",
      "id": "f98713a6",
      "metadata": {
        "id": "f98713a6"
      },
      "source": [
        "#### 55. What is the equivalent of enumerate for numpy arrays? (★★☆)\n",
        "`💡hint: np.ndenumerate, np.ndindex`"
      ]
    },
    {
      "cell_type": "code",
      "execution_count": null,
      "id": "c8ace8dc",
      "metadata": {
        "id": "c8ace8dc"
      },
      "outputs": [],
      "source": []
    },
    {
      "cell_type": "markdown",
      "id": "1abc7cc8",
      "metadata": {
        "id": "1abc7cc8"
      },
      "source": [
        "#### 56. Generate a generic 2D Gaussian-like array (★★☆)\n",
        "`💡hint: np.meshgrid, np.exp`"
      ]
    },
    {
      "cell_type": "code",
      "execution_count": null,
      "id": "8389dbf6",
      "metadata": {
        "id": "8389dbf6"
      },
      "outputs": [],
      "source": []
    },
    {
      "cell_type": "markdown",
      "id": "0cf413ee",
      "metadata": {
        "id": "0cf413ee"
      },
      "source": [
        "#### 57. How to randomly place e elements in a 2D array? (★★☆)\n",
        "`💡hint: np.put, np.random.choice`"
      ]
    },
    {
      "cell_type": "code",
      "execution_count": null,
      "id": "884c88de",
      "metadata": {
        "id": "884c88de"
      },
      "outputs": [],
      "source": []
    },
    {
      "cell_type": "markdown",
      "id": "215b6acc",
      "metadata": {
        "id": "215b6acc"
      },
      "source": [
        "#### 58. Subtract the mean of each row of a matrix (★★☆)\n",
        "`💡hint: mean(axis=,keepdims=)`"
      ]
    },
    {
      "cell_type": "code",
      "execution_count": null,
      "id": "76d3b16a",
      "metadata": {
        "id": "76d3b16a"
      },
      "outputs": [],
      "source": []
    },
    {
      "cell_type": "markdown",
      "id": "c0cf37e0",
      "metadata": {
        "id": "c0cf37e0"
      },
      "source": [
        "#### 59. How to sort an array by the nth column? (★★☆)\n",
        "`💡hint: argsort`"
      ]
    },
    {
      "cell_type": "code",
      "execution_count": null,
      "id": "f99dfd2a",
      "metadata": {
        "id": "f99dfd2a"
      },
      "outputs": [],
      "source": []
    },
    {
      "cell_type": "markdown",
      "id": "c17fb213",
      "metadata": {
        "id": "c17fb213"
      },
      "source": [
        "#### 60. How to tell if a given 2D array has null columns? (★★☆)\n",
        "`💡hint: any, ~`"
      ]
    },
    {
      "cell_type": "code",
      "execution_count": null,
      "id": "84346fc8",
      "metadata": {
        "id": "84346fc8"
      },
      "outputs": [],
      "source": []
    },
    {
      "cell_type": "markdown",
      "id": "8aaab886",
      "metadata": {
        "id": "8aaab886"
      },
      "source": [
        "#### 61. Find the nearest value from a given value in an array (★★☆)\n",
        "`💡hint: np.abs, argmin, flat`"
      ]
    },
    {
      "cell_type": "code",
      "execution_count": null,
      "id": "72a6090d",
      "metadata": {
        "id": "72a6090d"
      },
      "outputs": [],
      "source": []
    },
    {
      "cell_type": "markdown",
      "id": "66a04e2e",
      "metadata": {
        "id": "66a04e2e"
      },
      "source": [
        "#### 62. Considering two arrays with shape (1,3) and (3,1), how to compute their sum using an iterator? (★★☆)\n",
        "`💡"
      ]
    },
    {
      "cell_type": "code",
      "execution_count": null,
      "id": "93774f24",
      "metadata": {
        "id": "93774f24"
      },
      "outputs": [],
      "source": []
    },
    {
      "cell_type": "markdown",
      "id": "f4427f7f",
      "metadata": {
        "id": "f4427f7f"
      },
      "source": [
        "#### 63. Create an array class that has a name attribute (★★☆)\n",
        "`💡hint: class method`"
      ]
    },
    {
      "cell_type": "code",
      "execution_count": null,
      "id": "6e1952ed",
      "metadata": {
        "id": "6e1952ed"
      },
      "outputs": [],
      "source": []
    },
    {
      "cell_type": "markdown",
      "id": "58be9dd4",
      "metadata": {
        "id": "58be9dd4"
      },
      "source": [
        "#### 64. Consider a given vector, how to add 1 to each element indexed by a second vector (be careful with repeated indices)? (★★★)\n",
        "`💡hint: np.bincount | np.add.at`"
      ]
    },
    {
      "cell_type": "code",
      "execution_count": null,
      "id": "9cf9e134",
      "metadata": {
        "id": "9cf9e134"
      },
      "outputs": [],
      "source": []
    },
    {
      "cell_type": "markdown",
      "id": "7348abd0",
      "metadata": {
        "id": "7348abd0"
      },
      "source": [
        "#### 65. How to accumulate elements of a vector (X) to an array (F) based on an index list (I)? (★★★)\n",
        "`💡hint: np.bincount`"
      ]
    },
    {
      "cell_type": "code",
      "execution_count": null,
      "id": "43a58dde",
      "metadata": {
        "id": "43a58dde"
      },
      "outputs": [],
      "source": []
    },
    {
      "cell_type": "markdown",
      "id": "538e651c",
      "metadata": {
        "id": "538e651c"
      },
      "source": [
        "#### 66. Considering a (w,h,3) image of (dtype=ubyte), compute the number of unique colors (★★☆)\n",
        "`💡hint: np.unique`"
      ]
    },
    {
      "cell_type": "code",
      "execution_count": null,
      "id": "60b487a1",
      "metadata": {
        "id": "60b487a1"
      },
      "outputs": [],
      "source": []
    },
    {
      "cell_type": "markdown",
      "id": "33c986d9",
      "metadata": {
        "id": "33c986d9"
      },
      "source": [
        "#### 67. Considering a four dimensions array, how to get sum over the last two axis at once? (★★★)\n",
        "`💡hint: sum(axis=(-2,-1))`"
      ]
    },
    {
      "cell_type": "code",
      "execution_count": null,
      "id": "6ba943fe",
      "metadata": {
        "id": "6ba943fe"
      },
      "outputs": [],
      "source": []
    },
    {
      "cell_type": "markdown",
      "id": "00eb27c4",
      "metadata": {
        "id": "00eb27c4"
      },
      "source": [
        "#### 68. Considering a one-dimensional vector D, how to compute means of subsets of D using a vector S of same size describing subset  indices? (★★★)\n",
        "`💡hint: np.bincount`"
      ]
    },
    {
      "cell_type": "code",
      "execution_count": null,
      "id": "177b219c",
      "metadata": {
        "id": "177b219c"
      },
      "outputs": [],
      "source": []
    },
    {
      "cell_type": "markdown",
      "id": "928a1a15",
      "metadata": {
        "id": "928a1a15"
      },
      "source": [
        "#### 69. How to get the diagonal of a dot product? (★★★)\n",
        "`💡hint: np.diag`"
      ]
    },
    {
      "cell_type": "code",
      "execution_count": null,
      "id": "038b9c1c",
      "metadata": {
        "id": "038b9c1c"
      },
      "outputs": [],
      "source": []
    },
    {
      "cell_type": "markdown",
      "id": "5143f7f3",
      "metadata": {
        "id": "5143f7f3"
      },
      "source": [
        "#### 70. Consider the vector [1, 2, 3, 4, 5], how to build a new vector with 3 consecutive zeros interleaved between each value? (★★★)\n",
        "`💡hint: array[::4]`"
      ]
    },
    {
      "cell_type": "code",
      "execution_count": null,
      "id": "9913e7b0",
      "metadata": {
        "id": "9913e7b0"
      },
      "outputs": [],
      "source": []
    },
    {
      "cell_type": "markdown",
      "id": "f62551d8",
      "metadata": {
        "id": "f62551d8"
      },
      "source": [
        "#### 71. Consider an array of dimension (5,5,3), how to mulitply it by an array with dimensions (5,5)? (★★★)\n",
        "`💡hint: array[:, :, None]`"
      ]
    },
    {
      "cell_type": "code",
      "execution_count": null,
      "id": "02967528",
      "metadata": {
        "id": "02967528"
      },
      "outputs": [],
      "source": []
    },
    {
      "cell_type": "markdown",
      "id": "6896e326",
      "metadata": {
        "id": "6896e326"
      },
      "source": [
        "#### 72. How to swap two rows of an array? (★★★)\n",
        "`💡hint: array[[]] = array[[]]`"
      ]
    },
    {
      "cell_type": "code",
      "execution_count": null,
      "id": "33488c53",
      "metadata": {
        "id": "33488c53"
      },
      "outputs": [],
      "source": []
    },
    {
      "cell_type": "markdown",
      "id": "aeaf4a7b",
      "metadata": {
        "id": "aeaf4a7b"
      },
      "source": [
        "#### 73. Consider a set of 10 triplets describing 10 triangles (with shared vertices), find the set of unique line segments composing all the  triangles (★★★)\n",
        "`💡hint: repeat, np.roll, np.sort, view, np.unique`"
      ]
    },
    {
      "cell_type": "code",
      "execution_count": null,
      "id": "be837a66",
      "metadata": {
        "id": "be837a66"
      },
      "outputs": [],
      "source": []
    },
    {
      "cell_type": "markdown",
      "id": "3d11451b",
      "metadata": {
        "id": "3d11451b"
      },
      "source": [
        "#### 74. Given a sorted array C that corresponds to a bincount, how to produce an array A such that np.bincount(A) == C? (★★★)\n",
        "`💡hint: np.repeat`"
      ]
    },
    {
      "cell_type": "code",
      "execution_count": null,
      "id": "6912341a",
      "metadata": {
        "id": "6912341a"
      },
      "outputs": [],
      "source": []
    },
    {
      "cell_type": "markdown",
      "id": "a0a45995",
      "metadata": {
        "id": "a0a45995"
      },
      "source": [
        "#### 75. How to compute averages using a sliding window over an array? (★★★)\n",
        "`💡hint: np.cumsum`"
      ]
    },
    {
      "cell_type": "code",
      "execution_count": null,
      "id": "d307be78",
      "metadata": {
        "id": "d307be78"
      },
      "outputs": [],
      "source": []
    },
    {
      "cell_type": "markdown",
      "id": "7808578f",
      "metadata": {
        "id": "7808578f"
      },
      "source": [
        "#### 76. Consider a one-dimensional array Z, build a two-dimensional array whose first row is (Z[0],Z[1],Z[2]) and each subsequent row is  shifted by 1 (last row should be (Z[-3],Z[-2],Z[-1]) (★★★)\n",
        "`💡hint: from numpy.lib import stride_tricks`"
      ]
    },
    {
      "cell_type": "code",
      "execution_count": null,
      "id": "539e5596",
      "metadata": {
        "id": "539e5596"
      },
      "outputs": [],
      "source": []
    },
    {
      "cell_type": "markdown",
      "id": "8e83df46",
      "metadata": {
        "id": "8e83df46"
      },
      "source": [
        "#### 77. How to negate a boolean, or to change the sign of a float inplace? (★★★)\n",
        "`💡hint: np.logical_not, np.negative`"
      ]
    },
    {
      "cell_type": "code",
      "execution_count": null,
      "id": "90da18ec",
      "metadata": {
        "id": "90da18ec"
      },
      "outputs": [],
      "source": []
    },
    {
      "cell_type": "markdown",
      "id": "e67ff31c",
      "metadata": {
        "id": "e67ff31c"
      },
      "source": [
        "#### 78. Consider 2 sets of points P0,P1 describing lines (2d) and a point p, how to compute distance from p to each line i (P0[i],P1[i])? (★★★)"
      ]
    },
    {
      "cell_type": "code",
      "execution_count": null,
      "id": "aaa0c5cb",
      "metadata": {
        "id": "aaa0c5cb"
      },
      "outputs": [],
      "source": []
    },
    {
      "cell_type": "markdown",
      "id": "ad8821b1",
      "metadata": {
        "id": "ad8821b1"
      },
      "source": [
        "#### 79. Consider 2 sets of points P0,P1 describing lines (2d) and a set of points P, how to compute distance from each point j (P[j]) to each line i (P0[i],P1[i])? (★★★)"
      ]
    },
    {
      "cell_type": "code",
      "execution_count": null,
      "id": "12f9a524",
      "metadata": {
        "id": "12f9a524"
      },
      "outputs": [],
      "source": []
    },
    {
      "cell_type": "markdown",
      "id": "a0c8cbf5",
      "metadata": {
        "id": "a0c8cbf5"
      },
      "source": [
        "#### 80. Consider an arbitrary array, write a function that extract a subpart with a fixed shape and centered on a given element (pad with a `fill` value when necessary) (★★★)\n",
        "`💡hint: minimum maximum`"
      ]
    },
    {
      "cell_type": "code",
      "execution_count": null,
      "id": "6e44ae96",
      "metadata": {
        "id": "6e44ae96"
      },
      "outputs": [],
      "source": []
    },
    {
      "cell_type": "markdown",
      "id": "781fa236",
      "metadata": {
        "id": "781fa236"
      },
      "source": [
        "#### 81. Consider an array a = [1,2,3,4,5,6,7,8,9,10,11,12,13,14], how to generate an array b = [[1,2,3,4], [2,3,4,5], [3,4,5,6], ..., [11,12,13,14]]? (★★★)\n",
        "`💡hint: stride_tricks.as_strided`"
      ]
    },
    {
      "cell_type": "code",
      "execution_count": null,
      "id": "82e3d17e",
      "metadata": {
        "id": "82e3d17e"
      },
      "outputs": [],
      "source": []
    },
    {
      "cell_type": "markdown",
      "id": "9c9bb0f3",
      "metadata": {
        "id": "9c9bb0f3"
      },
      "source": [
        "#### 82. Compute a matrix rank (★★★)\n",
        "`💡hint: np.linalg.svd`"
      ]
    },
    {
      "cell_type": "code",
      "execution_count": null,
      "id": "18f053fa",
      "metadata": {
        "id": "18f053fa"
      },
      "outputs": [],
      "source": []
    },
    {
      "cell_type": "markdown",
      "id": "7d8dc135",
      "metadata": {
        "id": "7d8dc135"
      },
      "source": [
        "#### 83. How to find the most frequent value in an array?\n",
        "`💡hint: np.bincount, argmax`"
      ]
    },
    {
      "cell_type": "code",
      "execution_count": null,
      "id": "81844e99",
      "metadata": {
        "id": "81844e99"
      },
      "outputs": [],
      "source": []
    },
    {
      "cell_type": "markdown",
      "id": "aa340126",
      "metadata": {
        "id": "aa340126"
      },
      "source": [
        "#### 84. Extract all the contiguous 3x3 blocks from a random 10x10 matrix (★★★)\n",
        "`💡hint: stride_tricks.as_strided`"
      ]
    },
    {
      "cell_type": "code",
      "execution_count": null,
      "id": "f39dd2dd",
      "metadata": {
        "id": "f39dd2dd"
      },
      "outputs": [],
      "source": []
    },
    {
      "cell_type": "markdown",
      "id": "6b6d2c84",
      "metadata": {
        "id": "6b6d2c84"
      },
      "source": [
        "#### 85. Create a 2D array subclass such that a[i,j] == a[j,i] (★★★)\n",
        "`💡hint: class method`"
      ]
    },
    {
      "cell_type": "code",
      "execution_count": null,
      "id": "1916d67d",
      "metadata": {
        "id": "1916d67d"
      },
      "outputs": [],
      "source": []
    },
    {
      "cell_type": "markdown",
      "id": "7be0fe36",
      "metadata": {
        "id": "7be0fe36"
      },
      "source": [
        "#### 86. Consider a set of p matrices wich shape (n,n) and a set of p vectors with shape (n,1). How to compute the sum of of the p matrix products at once? (result has shape (n,1)) (★★★)\n",
        "`💡hint: np.tensordot`"
      ]
    },
    {
      "cell_type": "code",
      "execution_count": null,
      "id": "1d07c08f",
      "metadata": {
        "id": "1d07c08f"
      },
      "outputs": [],
      "source": []
    },
    {
      "cell_type": "markdown",
      "id": "a840a88f",
      "metadata": {
        "id": "a840a88f"
      },
      "source": [
        "#### 87. Consider a 16x16 array, how to get the block-sum (block size is 4x4)? (★★★)\n",
        "`💡hint: np.add.reduceat`"
      ]
    },
    {
      "cell_type": "code",
      "execution_count": null,
      "id": "7200f861",
      "metadata": {
        "id": "7200f861"
      },
      "outputs": [],
      "source": []
    },
    {
      "cell_type": "markdown",
      "id": "c2bd7385",
      "metadata": {
        "id": "c2bd7385"
      },
      "source": [
        "#### 88. How to implement the Game of Life using numpy arrays? (★★★)"
      ]
    },
    {
      "cell_type": "code",
      "execution_count": null,
      "id": "7a5d67d2",
      "metadata": {
        "id": "7a5d67d2"
      },
      "outputs": [],
      "source": []
    },
    {
      "cell_type": "markdown",
      "id": "4c70397b",
      "metadata": {
        "id": "4c70397b"
      },
      "source": [
        "#### 89. How to get the n largest values of an array (★★★)\n",
        "`💡hint: np.argsort | np.argpartition`"
      ]
    },
    {
      "cell_type": "code",
      "execution_count": null,
      "id": "732993b7",
      "metadata": {
        "id": "732993b7"
      },
      "outputs": [],
      "source": []
    },
    {
      "cell_type": "markdown",
      "id": "15ba193c",
      "metadata": {
        "id": "15ba193c"
      },
      "source": [
        "#### 90. Given an arbitrary number of vectors, build the cartesian product (every combinations of every item) (★★★)\n",
        "`💡hint: np.indices`"
      ]
    },
    {
      "cell_type": "code",
      "execution_count": null,
      "id": "3a315a00",
      "metadata": {
        "id": "3a315a00"
      },
      "outputs": [],
      "source": []
    },
    {
      "cell_type": "markdown",
      "id": "ec828405",
      "metadata": {
        "id": "ec828405"
      },
      "source": [
        "#### 91. How to create a record array from a regular array? (★★★)\n",
        "`💡hint: np.core.records.fromarrays`"
      ]
    },
    {
      "cell_type": "code",
      "execution_count": null,
      "id": "608a017a",
      "metadata": {
        "id": "608a017a"
      },
      "outputs": [],
      "source": []
    },
    {
      "cell_type": "markdown",
      "id": "d94352b6",
      "metadata": {
        "id": "d94352b6"
      },
      "source": [
        "#### 92. Consider a large vector A, compute A to the power of 3 using 3 different methods (★★★)\n",
        "`💡hint: np.power, *, np.einsum`"
      ]
    },
    {
      "cell_type": "code",
      "execution_count": null,
      "id": "759d5ce5",
      "metadata": {
        "id": "759d5ce5"
      },
      "outputs": [],
      "source": []
    },
    {
      "cell_type": "markdown",
      "id": "7c3a9e32",
      "metadata": {
        "id": "7c3a9e32"
      },
      "source": [
        "#### 93. Consider two arrays A and B of shape (8,3) and (2,2). How to find rows of A that contain elements of each row of B regardless of the order of the elements in B? (★★★)\n",
        "`💡hint: np.where`"
      ]
    },
    {
      "cell_type": "code",
      "execution_count": null,
      "id": "5c293501",
      "metadata": {
        "id": "5c293501"
      },
      "outputs": [],
      "source": []
    },
    {
      "cell_type": "markdown",
      "id": "da9d5eeb",
      "metadata": {
        "id": "da9d5eeb"
      },
      "source": [
        "#### 94. Considering a 10x3 matrix, extract rows with unequal values (e.g. [2,2,3]) (★★★)"
      ]
    },
    {
      "cell_type": "code",
      "execution_count": null,
      "id": "89d5fba0",
      "metadata": {
        "id": "89d5fba0"
      },
      "outputs": [],
      "source": []
    },
    {
      "cell_type": "markdown",
      "id": "f7b65fd5",
      "metadata": {
        "id": "f7b65fd5"
      },
      "source": [
        "#### 95. Convert a vector of ints into a matrix binary representation (★★★)\n",
        "`💡hint: np.unpackbits`"
      ]
    },
    {
      "cell_type": "code",
      "execution_count": null,
      "id": "4edef8b1",
      "metadata": {
        "id": "4edef8b1"
      },
      "outputs": [],
      "source": []
    },
    {
      "cell_type": "markdown",
      "id": "2784c996",
      "metadata": {
        "id": "2784c996"
      },
      "source": [
        "#### 96. Given a two dimensional array, how to extract unique rows? (★★★)\n",
        "`💡hint: np.ascontiguousarray | np.unique`"
      ]
    },
    {
      "cell_type": "code",
      "execution_count": null,
      "id": "1d65d01e",
      "metadata": {
        "id": "1d65d01e"
      },
      "outputs": [],
      "source": []
    },
    {
      "cell_type": "markdown",
      "id": "71a7574c",
      "metadata": {
        "id": "71a7574c"
      },
      "source": [
        "#### 97. Considering 2 vectors A & B, write the einsum equivalent of inner, outer, sum, and mul function (★★★)\n",
        "`💡hint: np.einsum`"
      ]
    },
    {
      "cell_type": "code",
      "execution_count": null,
      "id": "43471b2e",
      "metadata": {
        "id": "43471b2e"
      },
      "outputs": [],
      "source": []
    },
    {
      "cell_type": "markdown",
      "id": "30f06441",
      "metadata": {
        "id": "30f06441"
      },
      "source": [
        "#### 98. Considering a path described by two vectors (X,Y), how to sample it using equidistant samples (★★★)?\n",
        "`💡hint: np.cumsum, np.interp`"
      ]
    },
    {
      "cell_type": "code",
      "execution_count": null,
      "id": "ddac593f",
      "metadata": {
        "id": "ddac593f"
      },
      "outputs": [],
      "source": []
    },
    {
      "cell_type": "markdown",
      "id": "e5737276",
      "metadata": {
        "id": "e5737276"
      },
      "source": [
        "#### 99. Given an integer n and a 2D array X, select from X the rows which can be interpreted as draws from a multinomial distribution with n degrees, i.e., the rows which only contain integers and which sum to n. (★★★)\n",
        "`💡hint: np.logical_and.reduce, np.mod`"
      ]
    },
    {
      "cell_type": "code",
      "execution_count": null,
      "id": "5d0d0fa8",
      "metadata": {
        "id": "5d0d0fa8"
      },
      "outputs": [],
      "source": []
    },
    {
      "cell_type": "markdown",
      "id": "5882e36d",
      "metadata": {
        "id": "5882e36d"
      },
      "source": [
        "#### 100. Compute bootstrapped 95% confidence intervals for the mean of a 1D array X (i.e., resample the elements of an array with replacement N times, compute the mean of each sample, and then compute percentiles over the means). (★★★)\n",
        "`💡hint: np.percentile`"
      ]
    },
    {
      "cell_type": "code",
      "execution_count": null,
      "id": "c21a8816",
      "metadata": {
        "id": "c21a8816"
      },
      "outputs": [],
      "source": []
    }
  ],
  "metadata": {
    "hide_input": false,
    "kernelspec": {
      "display_name": "Python 3 (ipykernel)",
      "language": "python",
      "name": "python3"
    },
    "language_info": {
      "codemirror_mode": {
        "name": "ipython",
        "version": 3
      },
      "file_extension": ".py",
      "mimetype": "text/x-python",
      "name": "python",
      "nbconvert_exporter": "python",
      "pygments_lexer": "ipython3",
      "version": "3.12.3"
    },
    "toc": {
      "base_numbering": 1,
      "nav_menu": {},
      "number_sections": true,
      "sideBar": true,
      "skip_h1_title": false,
      "title_cell": "Table of Contents",
      "title_sidebar": "Contents",
      "toc_cell": false,
      "toc_position": {},
      "toc_section_display": true,
      "toc_window_display": false
    },
    "varInspector": {
      "cols": {
        "lenName": 16,
        "lenType": 16,
        "lenVar": 40
      },
      "kernels_config": {
        "python": {
          "delete_cmd_postfix": "",
          "delete_cmd_prefix": "del ",
          "library": "var_list.py",
          "varRefreshCmd": "print(var_dic_list())"
        },
        "r": {
          "delete_cmd_postfix": ") ",
          "delete_cmd_prefix": "rm(",
          "library": "var_list.r",
          "varRefreshCmd": "cat(var_dic_list()) "
        }
      },
      "types_to_exclude": [
        "module",
        "function",
        "builtin_function_or_method",
        "instance",
        "_Feature"
      ],
      "window_display": false
    },
    "colab": {
      "provenance": [],
      "include_colab_link": true
    }
  },
  "nbformat": 4,
  "nbformat_minor": 5
}